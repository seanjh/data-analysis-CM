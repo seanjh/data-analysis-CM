{
 "cells": [
  {
   "cell_type": "code",
   "execution_count": 1,
   "metadata": {
    "collapsed": true
   },
   "outputs": [],
   "source": [
    "import os\n",
    "import sys\n",
    "import time\n",
    "import json\n",
    "import gzip\n",
    "import string\n",
    "from datetime import datetime, date\n",
    "import time\n",
    "import unicodedata\n",
    "import calendar\n",
    "\n",
    "PARSE_LIMIT = None  # limits the total amount of data parsed during testing\n",
    "\n",
    "DATA_PATH = os.path.join(os.getcwd(), 'data')\n",
    "RATEBEER_FILENAME = os.path.join(DATA_PATH, 'Ratebeer.txt.gz')\n",
    "BEERADVOCATE_FILENAME = os.path.join(DATA_PATH, 'Beeradvocate.txt.gz')\n",
    "\n",
    "# OUT_FILENAME = os.path.join(DATA_PATH, 'mobile-data.txt')\n",
    "OUT_FILENAME = os.path.join(DATA_PATH, 'reduced_data.txt')\n",
    "SORTED_FILENAME = os.path.join(DATA_PATH, 'date_sorted_data.txt')\n",
    "\n",
    "START_DATE = date(2008,5,1)\n",
    "END_DATE = date(2010,5,1)"
   ]
  },
  {
   "cell_type": "code",
   "execution_count": 2,
   "metadata": {
    "collapsed": false
   },
   "outputs": [],
   "source": [
    "\"\"\"\n",
    "Convert Fraction String to Float\n",
    "\"\"\"\n",
    "def convert_fraction_string(val_str):\n",
    "    parts = val_str.split('/')\n",
    "    try:\n",
    "        return float(int(parts[0])) / int(parts[1])\n",
    "    except (ZeroDivisionError, IndexError):\n",
    "        return 0.0"
   ]
  },
  {
   "cell_type": "code",
   "execution_count": 3,
   "metadata": {
    "collapsed": true
   },
   "outputs": [],
   "source": [
    "\"\"\"\n",
    "Sanitize Beer Data\n",
    "Basic Implementation Adapted from http://jmcauley.ucsd.edu/cse255/data/beer/processRaw.py\n",
    "\"\"\"\n",
    "def sanitize_ba(e):\n",
    "    try:\n",
    "        e['review/appearance'] = float(e['review/appearance'])\n",
    "        e['review/taste'] = float(e['review/taste'])\n",
    "        e['review/overall'] = float(e['review/overall'])\n",
    "        e['review/palate'] = float(e['review/palate'])\n",
    "        e['review/aroma'] = float(e['review/aroma'])\n",
    "        e['review/timeUnix'] = int(e['review/time'])\n",
    "        e.pop('review/time', None)\n",
    "        try:\n",
    "            e['beer/ABV'] = float(e['beer/ABV'])\n",
    "        except Exception as q:\n",
    "            e.pop('beer/ABV', None)\n",
    "        e['user/profileName'] = e['review/profileName']\n",
    "        e.pop('review/profileName', None)\n",
    "        timeStruct = time.gmtime(e['review/timeUnix'])\n",
    "        e['review/timeStruct'] = dict(zip([\"year\", \"mon\", \"mday\", \"hour\", \"min\", \"sec\", \"wday\", \"yday\", \"isdst\"], list(timeStruct)))\n",
    "    except Exception as q:\n",
    "        print q\n",
    "        pass\n",
    "\n",
    "\n",
    "def sanitize_rb(e):\n",
    "    try:\n",
    "        e['review/appearance'] = convert_fraction_string(e['review/appearance'])\n",
    "        e['review/taste'] = convert_fraction_string(e['review/taste'])\n",
    "        e['review/overall'] = convert_fraction_string(e['review/overall'])\n",
    "        e['review/palate'] = convert_fraction_string(e['review/palate'])\n",
    "        e['review/aroma'] = convert_fraction_string(e['review/aroma'])\n",
    "        e['review/timeUnix'] = int(e['review/time'])\n",
    "        e.pop('review/time', None)\n",
    "        try:\n",
    "            e['beer/ABV'] = float(e['beer/ABV'])\n",
    "        except Exception as q:\n",
    "            e.pop('beer/ABV', None)\n",
    "        e['user/profileName'] = e['review/profileName']\n",
    "        e.pop('review/profileName', None)\n",
    "        timeStruct = time.gmtime(e['review/timeUnix'])\n",
    "        e['review/timeStruct'] = dict(zip([\"year\", \"mon\", \"mday\", \"hour\", \"min\", \"sec\", \"wday\", \"yday\", \"isdst\"], list(timeStruct)))\n",
    "    except Exception as q:\n",
    "        print q\n",
    "        pass\n",
    "    \n",
    "def sanitizer_switch(e, source):\n",
    "    if source == 'BA':\n",
    "        sanitize_ba(e)\n",
    "    elif source == 'RB':\n",
    "        sanitize_rb(e)\n",
    "    return e"
   ]
  },
  {
   "cell_type": "code",
   "execution_count": 5,
   "metadata": {
    "collapsed": true
   },
   "outputs": [],
   "source": [
    "# Initialize Beer Parsing of File when Called\n",
    "def parse_beer(filename, source=None):\n",
    "    f = gzip.open(filename, 'r')\n",
    "    entry = {}\n",
    "    for l in f:\n",
    "        l = l.strip()\n",
    "        colonPos = l.find(':')\n",
    "        if colonPos == -1:\n",
    "            yield sanitizer_switch(entry, source)\n",
    "            entry = {}\n",
    "            continue\n",
    "        eName = l[:colonPos]\n",
    "        rest = l[colonPos+2:]\n",
    "        entry[eName] = rest\n",
    "    yield sanitizer_switch(entry, source)"
   ]
  },
  {
   "cell_type": "code",
   "execution_count": 6,
   "metadata": {
    "collapsed": false
   },
   "outputs": [],
   "source": [
    "\"\"\"\n",
    "Helper function to find min/max date from a time period\n",
    "\"\"\"\n",
    "def min_max_dates(beer_iter, parse_limit=None):\n",
    "    min_date, max_date = None , None \n",
    "    first_review, last_review = None, None\n",
    "    \n",
    "    for i, review in enumerate(beer_iter):\n",
    "        if parse_limit is not None and i >= parse_limit:\n",
    "            break\n",
    "        if review and (min_date is None or review.get('review/timeUnix') < min_date):\n",
    "            first_review = review\n",
    "            min_date = review.get('review/timeUnix')\n",
    "        if review and (max_date is None or review.get('review/timeUnix') > max_date):\n",
    "            last_review = review\n",
    "            max_date = review.get('review/timeUnix')\n",
    "    \n",
    "    return first_review, last_review"
   ]
  },
  {
   "cell_type": "code",
   "execution_count": 7,
   "metadata": {
    "collapsed": true
   },
   "outputs": [],
   "source": [
    "\"\"\"\n",
    "Helper function to find min/max date from a time period\n",
    "\"\"\"\n",
    "def filter_data_date(start, end, beer_iter, filename):\n",
    "    with open(filename, 'w') as f:\n",
    "        for i, review in enumerate(beer_iter):\n",
    "            if review and (review.get('review/timeUnix') >= start) and (review.get('review/timeUnix') < end):\n",
    "                json.dump(review, f, ensure_ascii=False)\n",
    "                f.write('\\n')\n",
    "    f.close()"
   ]
  },
  {
   "cell_type": "code",
   "execution_count": 8,
   "metadata": {
    "collapsed": true
   },
   "outputs": [],
   "source": [
    "\"\"\"\n",
    "Helper to return unicode string as ascii with special characters removed.\n",
    "\"\"\"\n",
    "def clean_unicode(instr):\n",
    "    return unicodedata.normalize('NFKD', instr).encode('ascii', 'ignore') "
   ]
  },
  {
   "cell_type": "code",
   "execution_count": 9,
   "metadata": {
    "collapsed": false
   },
   "outputs": [],
   "source": [
    "# first, last = min_max_dates(data_iter, PARSE_LIMIT)"
   ]
  },
  {
   "cell_type": "code",
   "execution_count": 10,
   "metadata": {
    "collapsed": false
   },
   "outputs": [],
   "source": [
    "def parse_json(filename, normalize=True):\n",
    "    with open(filename) as f:\n",
    "        for line in f:\n",
    "            out = json.loads(line, encoding='latin-1')\n",
    "            if normalize:\n",
    "                temp = {}\n",
    "                for key in out:\n",
    "                    try:\n",
    "                        key = clean_unicode(key)\n",
    "                    except:\n",
    "                        key = key\n",
    "                    try:\n",
    "                        temp[key] = clean_unicode(out[key])\n",
    "                    except:\n",
    "                        temp[key] = out[key]\n",
    "                out = temp\n",
    "            yield out\n",
    "    f.close()"
   ]
  },
  {
   "cell_type": "code",
   "execution_count": 11,
   "metadata": {
    "collapsed": false
   },
   "outputs": [
    {
     "name": "stdout",
     "output_type": "stream",
     "text": [
      "'review/appearance'\n",
      "Finished writing parsed data to /home/sean/Sync/cornell/CM/data-analysis-CM/data/reduced_data.txt in 183.122s\n"
     ]
    }
   ],
   "source": [
    "# only run once - parses all data and writes reduced data to file\n",
    "start = time.time()\n",
    "data_iter = parse_beer(RATEBEER_FILENAME, 'RB')\n",
    "start_timestamp = calendar.timegm(START_DATE.timetuple())\n",
    "end_timestamp = calendar.timegm(END_DATE.timetuple())\n",
    "filter_data_date(start_timestamp, end_timestamp, data_iter, OUT_FILENAME)\n",
    "print 'Finished writing parsed data to %s in %0.3fs' % (OUT_FILENAME, time.time() - start)"
   ]
  },
  {
   "cell_type": "code",
   "execution_count": 12,
   "metadata": {
    "collapsed": false,
    "scrolled": true
   },
   "outputs": [
    {
     "ename": "NameError",
     "evalue": "name 'timestamp_keyfunc' is not defined",
     "output_type": "error",
     "traceback": [
      "\u001b[1;31m---------------------------------------------------------------------------\u001b[0m",
      "\u001b[1;31mNameError\u001b[0m                                 Traceback (most recent call last)",
      "\u001b[1;32m<ipython-input-12-44324618cb68>\u001b[0m in \u001b[0;36m<module>\u001b[1;34m()\u001b[0m\n\u001b[0;32m      2\u001b[0m \u001b[1;33m\u001b[0m\u001b[0m\n\u001b[0;32m      3\u001b[0m \u001b[0mstart\u001b[0m \u001b[1;33m=\u001b[0m \u001b[0mtime\u001b[0m\u001b[1;33m.\u001b[0m\u001b[0mtime\u001b[0m\u001b[1;33m(\u001b[0m\u001b[1;33m)\u001b[0m\u001b[1;33m\u001b[0m\u001b[0m\n\u001b[1;32m----> 4\u001b[1;33m \u001b[0msorted_reviews\u001b[0m \u001b[1;33m=\u001b[0m \u001b[0msorted\u001b[0m\u001b[1;33m(\u001b[0m\u001b[0mreviews_iter\u001b[0m\u001b[1;33m,\u001b[0m \u001b[0mkey\u001b[0m\u001b[1;33m=\u001b[0m\u001b[0mtimestamp_keyfunc\u001b[0m\u001b[1;33m)\u001b[0m\u001b[1;33m\u001b[0m\u001b[0m\n\u001b[0m\u001b[0;32m      5\u001b[0m \u001b[1;32mwith\u001b[0m \u001b[0mopen\u001b[0m\u001b[1;33m(\u001b[0m\u001b[0mSORTED_FILENAME\u001b[0m\u001b[1;33m,\u001b[0m \u001b[1;34m'w'\u001b[0m\u001b[1;33m)\u001b[0m \u001b[1;32mas\u001b[0m \u001b[0moutfile\u001b[0m\u001b[1;33m:\u001b[0m\u001b[1;33m\u001b[0m\u001b[0m\n\u001b[0;32m      6\u001b[0m     \u001b[0mjson\u001b[0m\u001b[1;33m.\u001b[0m\u001b[0mdump\u001b[0m\u001b[1;33m(\u001b[0m\u001b[0msorted_reviews\u001b[0m\u001b[1;33m,\u001b[0m \u001b[0moutfile\u001b[0m\u001b[1;33m)\u001b[0m\u001b[1;33m\u001b[0m\u001b[0m\n",
      "\u001b[1;31mNameError\u001b[0m: name 'timestamp_keyfunc' is not defined"
     ]
    }
   ],
   "source": [
    "reviews_iter = parse_json(OUT_FILENAME)\n",
    "\n",
    "start = time.time()\n",
    "sorted_reviews = sorted(reviews_iter, key=timestamp_keyfunc)\n",
    "with open(SORTED_FILENAME, 'w') as outfile:\n",
    "    json.dump(sorted_reviews, outfile)\n",
    "print 'Finished writing date sorted data to %s in %0.3fs' % (SORTED_FILENAME, time.time() - start)"
   ]
  },
  {
   "cell_type": "code",
   "execution_count": null,
   "metadata": {
    "collapsed": false
   },
   "outputs": [],
   "source": []
  }
 ],
 "metadata": {
  "kernelspec": {
   "display_name": "Python 2",
   "language": "python",
   "name": "python2"
  },
  "language_info": {
   "codemirror_mode": {
    "name": "ipython",
    "version": 2
   },
   "file_extension": ".py",
   "mimetype": "text/x-python",
   "name": "python",
   "nbconvert_exporter": "python",
   "pygments_lexer": "ipython2",
   "version": "2.7.9"
  }
 },
 "nbformat": 4,
 "nbformat_minor": 0
}
