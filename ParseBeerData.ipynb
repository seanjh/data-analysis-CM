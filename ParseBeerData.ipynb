{
 "cells": [
  {
   "cell_type": "code",
   "execution_count": 16,
   "metadata": {
    "collapsed": true
   },
   "outputs": [],
   "source": [
    "import os\n",
    "import sys\n",
    "import time\n",
    "import json\n",
    "import gzip\n",
    "import string\n",
    "from datetime import datetime\n",
    "import time\n",
    "import unicodedata\n",
    "import calendar\n",
    "\n",
    "PARSE_LIMIT = None  # limits the total amount of data parsed during testing\n",
    "\n",
    "DATA_PATH = os.path.join(os.getcwd(), 'data')\n",
    "RATEBEER_FILENAME = os.path.join(DATA_PATH, 'Ratebeer.txt.gz')\n",
    "BEERADVOCATE_FILENAME = os.path.join(DATA_PATH, 'Beeradvocate.txt.gz')\n",
    "\n",
    "OUT_FILENAME = os.path.join(DATA_PATH, 'mobile-data.txt')\n",
    "\n",
    "START_DATE = datetime(2011,1,1)\n",
    "END_DATE = datetime(2012,2,1)"
   ]
  },
  {
   "cell_type": "code",
   "execution_count": 17,
   "metadata": {
    "collapsed": false
   },
   "outputs": [],
   "source": [
    "\"\"\"\n",
    "Convert Fraction String to Float\n",
    "\"\"\"\n",
    "def convert_fraction_string(val_str):\n",
    "    parts = val_str.split('/')\n",
    "    try:\n",
    "        return float(int(parts[0])) / int(parts[1])\n",
    "    except (ZeroDivisionError, IndexError):\n",
    "        return 0.0"
   ]
  },
  {
   "cell_type": "code",
   "execution_count": 18,
   "metadata": {
    "collapsed": true
   },
   "outputs": [],
   "source": [
    "\"\"\"\n",
    "Sanitize Beer Data\n",
    "Basic Implementation Adapted from http://jmcauley.ucsd.edu/cse255/data/beer/processRaw.py\n",
    "\"\"\"\n",
    "def sanitize_ba(e):\n",
    "    try:\n",
    "        e['review/appearance'] = float(e['review/appearance'])\n",
    "        e['review/taste'] = float(e['review/taste'])\n",
    "        e['review/overall'] = float(e['review/overall'])\n",
    "        e['review/palate'] = float(e['review/palate'])\n",
    "        e['review/aroma'] = float(e['review/aroma'])\n",
    "        e['review/timeUnix'] = int(e['review/time'])\n",
    "        e.pop('review/time', None)\n",
    "        try:\n",
    "            e['beer/ABV'] = float(e['beer/ABV'])\n",
    "        except Exception as q:\n",
    "            e.pop('beer/ABV', None)\n",
    "        e['user/profileName'] = e['review/profileName']\n",
    "        e.pop('review/profileName', None)\n",
    "        timeStruct = time.gmtime(e['review/timeUnix'])\n",
    "        e['review/timeStruct'] = dict(zip([\"year\", \"mon\", \"mday\", \"hour\", \"min\", \"sec\", \"wday\", \"yday\", \"isdst\"], list(timeStruct)))\n",
    "    except Exception as q:\n",
    "        print q\n",
    "        pass\n",
    "\n",
    "\n",
    "def sanitize_rb(e):\n",
    "    try:\n",
    "        e['review/appearance'] = convert_fraction_string(e['review/appearance'])\n",
    "        e['review/taste'] = convert_fraction_string(e['review/taste'])\n",
    "        e['review/overall'] = convert_fraction_string(e['review/overall'])\n",
    "        e['review/palate'] = convert_fraction_string(e['review/palate'])\n",
    "        e['review/aroma'] = convert_fraction_string(e['review/aroma'])\n",
    "        e['review/timeUnix'] = int(e['review/time'])\n",
    "        e.pop('review/time', None)\n",
    "        try:\n",
    "            e['beer/ABV'] = float(e['beer/ABV'])\n",
    "        except Exception as q:\n",
    "            e.pop('beer/ABV', None)\n",
    "        e['user/profileName'] = e['review/profileName']\n",
    "        e.pop('review/profileName', None)\n",
    "        timeStruct = time.gmtime(e['review/timeUnix'])\n",
    "        e['review/timeStruct'] = dict(zip([\"year\", \"mon\", \"mday\", \"hour\", \"min\", \"sec\", \"wday\", \"yday\", \"isdst\"], list(timeStruct)))\n",
    "    except Exception as q:\n",
    "        print q\n",
    "        pass\n",
    "    \n",
    "def sanitizer_switch(e, source):\n",
    "    if source == 'BA':\n",
    "        sanitize_ba(e)\n",
    "    elif source == 'RB':\n",
    "        sanitize_rb(e)\n",
    "    return e"
   ]
  },
  {
   "cell_type": "code",
   "execution_count": 20,
   "metadata": {
    "collapsed": true
   },
   "outputs": [],
   "source": [
    "# Initialize Beer Parsing of File when Called\n",
    "def parse_beer(filename, source=None):\n",
    "    f = gzip.open(filename, 'r')\n",
    "    entry = {}\n",
    "    for l in f:\n",
    "        l = l.strip()\n",
    "        colonPos = l.find(':')\n",
    "        if colonPos == -1:\n",
    "            yield sanitizer_switch(entry, source)\n",
    "            entry = {}\n",
    "            continue\n",
    "        eName = l[:colonPos]\n",
    "        rest = l[colonPos+2:]\n",
    "        entry[eName] = rest\n",
    "    yield sanitizer_switch(entry, source)"
   ]
  },
  {
   "cell_type": "code",
   "execution_count": 21,
   "metadata": {
    "collapsed": false
   },
   "outputs": [],
   "source": [
    "\"\"\"\n",
    "Helper function to find min/max date from a time period\n",
    "\"\"\"\n",
    "def min_max_dates(beer_iter, parse_limit=None):\n",
    "    min_date, max_date = None , None \n",
    "    first_review, last_review = None, None\n",
    "    \n",
    "    for i, review in enumerate(beer_iter):\n",
    "        if parse_limit is not None and i >= parse_limit:\n",
    "            break\n",
    "        if review and (min_date is None or review.get('review/timeUnix') < min_date):\n",
    "            first_review = review\n",
    "            min_date = review.get('review/timeUnix')\n",
    "        if review and (max_date is None or review.get('review/timeUnix') > max_date):\n",
    "            last_review = review\n",
    "            max_date = review.get('review/timeUnix')\n",
    "    \n",
    "    return first_review, last_review"
   ]
  },
  {
   "cell_type": "code",
   "execution_count": 22,
   "metadata": {
    "collapsed": true
   },
   "outputs": [],
   "source": [
    "\"\"\"\n",
    "Helper function to find min/max date from a time period\n",
    "\"\"\"\n",
    "def filter_data_date(start, end, beer_iter, filename):\n",
    "    with open(filename, 'w') as f:\n",
    "        for i, review in enumerate(beer_iter):\n",
    "            if review and (review.get('review/timeUnix') >= start) and (review.get('review/timeUnix') < end):\n",
    "                json.dump(review, f, ensure_ascii=False)\n",
    "                f.write('\\n')\n",
    "    f.close()"
   ]
  },
  {
   "cell_type": "code",
   "execution_count": 23,
   "metadata": {
    "collapsed": true
   },
   "outputs": [],
   "source": [
    "\"\"\"\n",
    "Helper to return unicode string as ascii with special characters removed.\n",
    "\"\"\"\n",
    "def clean_unicode(instr):\n",
    "    return unicodedata.normalize('NFKD', instr).encode('ascii', 'ignore') "
   ]
  },
  {
   "cell_type": "code",
   "execution_count": 24,
   "metadata": {
    "collapsed": false
   },
   "outputs": [],
   "source": [
    "# first, last = min_max_dates(data_iter, PARSE_LIMIT)"
   ]
  },
  {
   "cell_type": "code",
   "execution_count": 25,
   "metadata": {
    "collapsed": false
   },
   "outputs": [],
   "source": [
    "def parse_json(filename, normalize=True):\n",
    "    with open(filename) as f:\n",
    "        for line in f:\n",
    "            out = json.loads(line, encoding='latin-1')\n",
    "            if normalize:\n",
    "                temp = {}\n",
    "                for key in out:\n",
    "                    try:\n",
    "                        key = clean_unicode(key)\n",
    "                    except:\n",
    "                        key = key\n",
    "                    try:\n",
    "                        temp[key] = clean_unicode(out[key])\n",
    "                    except:\n",
    "                        temp[key] = out[key]\n",
    "                out = temp\n",
    "            yield out\n",
    "    f.close()"
   ]
  },
  {
   "cell_type": "code",
   "execution_count": 26,
   "metadata": {
    "collapsed": false
   },
   "outputs": [
    {
     "name": "stdout",
     "output_type": "stream",
     "text": [
      "'review/appearance'\n",
      "Finished writing parsed data to /Users/sean/Sync/cornell/CM/data-analysis-CM/data/mobile-data.txt in 416.305s\n"
     ]
    }
   ],
   "source": [
    "# only run once - parses all data and writes reduced data to file\n",
    "start = time.time()\n",
    "data_iter = parse_beer(RATEBEER_FILENAME, 'RB')\n",
    "start_timestamp = calendar.timegm(START_DATE.timetuple())\n",
    "end_timestamp = calendar.timegm(END_DATE.timetuple())\n",
    "filter_data_date(start_timestamp, end_timestamp, data_iter, OUT_FILENAME)\n",
    "print 'Finished writing parsed data to %s in %0.3fs' % (OUT_FILENAME, time.time() - start)"
   ]
  }
 ],
 "metadata": {
  "kernelspec": {
   "display_name": "Python 2",
   "language": "python",
   "name": "python2"
  },
  "language_info": {
   "codemirror_mode": {
    "name": "ipython",
    "version": 2
   },
   "file_extension": ".py",
   "mimetype": "text/x-python",
   "name": "python",
   "nbconvert_exporter": "python",
   "pygments_lexer": "ipython2",
   "version": "2.7.9"
  }
 },
 "nbformat": 4,
 "nbformat_minor": 0
}
