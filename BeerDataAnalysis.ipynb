{
 "cells": [
  {
   "cell_type": "markdown",
   "metadata": {},
   "source": [
    "# Beer Data Analysis\n",
    "#### jhh283, sjh293\n",
    "\n",
    "### Abstract\n",
    "Options:\n",
    "* comparative analysis of RateBeer and BeerAdvocate\n",
    "\n",
    "\n",
    "RateBeer site redesign January 2009. Changes:\n",
    "Timeline: 2009\n",
    "\n",
    "\n",
    "2 sites serve same purpose\n",
    "Differences across sites:\n",
    "* Age (launch date)\n",
    "\n",
    "Adherence to Reader-to-Leader framework design considerations\n",
    "* Prominence of reviews in user profiles\n",
    "* Where users find reviews on the site (front page?)\n",
    "*Usability*\n",
    "* Low threshold interfaces for easily making small\n",
    "contributions, e.g., no login\n",
    "* High ceiling interfaces that allow large and frequent\n",
    "contributions\n",
    "* Visibility for users’ contributions and frequency of views;\n",
    "aggregated over time\n",
    "* Visibility of ratings and comments by community\n",
    "members\n",
    "* Tools to undo vandalism, limit malicious users, control\n",
    "pornography and libel \n",
    "\n",
    "*Sociability*\n",
    "* Support for legitimate peripheral participation so\n",
    "that readers can gradually edge into contributing\n",
    "* A chance to build their reputation over time while\n",
    "performing satisfying tasks\n",
    "* Recognition for the highest quality and quantity of\n",
    "contributions\n",
    "* Recognition of a person’s specific expertise\n",
    "* Policies and norms for appropriate contributions "
   ]
  },
  {
   "cell_type": "code",
   "execution_count": null,
   "metadata": {
    "collapsed": true
   },
   "outputs": [],
   "source": []
  },
  {
   "cell_type": "code",
   "execution_count": null,
   "metadata": {
    "collapsed": true
   },
   "outputs": [],
   "source": []
  }
 ],
 "metadata": {
  "kernelspec": {
   "display_name": "Python 2",
   "language": "python",
   "name": "python2"
  },
  "language_info": {
   "codemirror_mode": {
    "name": "ipython",
    "version": 2
   },
   "file_extension": ".py",
   "mimetype": "text/x-python",
   "name": "python",
   "nbconvert_exporter": "python",
   "pygments_lexer": "ipython2",
   "version": "2.7.6"
  }
 },
 "nbformat": 4,
 "nbformat_minor": 0
}
