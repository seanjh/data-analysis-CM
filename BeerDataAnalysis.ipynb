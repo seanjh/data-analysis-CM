{
 "cells": [
  {
   "cell_type": "markdown",
   "metadata": {},
   "source": [
    "# Beer Data Analysis\n",
    "#### jhh283, sjh293\n",
    "\n",
    "### Abstract\n",
    "Preece and Schneiderman's Reader-to-Leader Framework [1] details a number of usability and sociability factors that sites can deploy to help promote contributions of user generated content (UGC). In particular, the paper describes \"visibility for...contributions\" as a motivating factor for ongoing contributions of UGC, along with a \"recognition of quality and quantity of contributions.\" This notebook's analysis focuses on RateBeer.com, one of the leading beer review websites, and in particular on site and user profile redesigns that provided additional visibility for user's contributions, and better recognition of the quantity and completeness of each user's reviews. Based on arguments in the Reader-to-Leader Framework, we hypothesized that these redesigns will result in a measurable increase the quantity and diversity of contributions of beer reviews.\n",
    "\n",
    "Before & After:\n",
    "* Contribution rate, before & after redesign\n",
    "* Contribution rate per (active) user\n",
    "* Diversity of contributions (i.e., beer type, breweries, beers)\n",
    "\n",
    "TODO:\n",
    "* Repeat analysis around launch of the mobile app"
   ]
  },
  {
   "cell_type": "markdown",
   "metadata": {
    "collapsed": true
   },
   "source": [
    "[1]: Preece, Jennifer and Ben Shneiderman (2009). “The Reader-to-Leader Framework: Motivating Technology-Mediated Social Participation,” in Transactions on Human-Computer Interaction."
   ]
  },
  {
   "cell_type": "markdown",
   "metadata": {},
   "source": [
    "### Notebook helpers"
   ]
  },
  {
   "cell_type": "code",
   "execution_count": null,
   "metadata": {
    "collapsed": false
   },
   "outputs": [],
   "source": [
    "import os\n",
    "\n",
    "from IPython.display import HTML\n",
    "from IPython.display import display, Image\n",
    "from PIL import Image as PILImage\n",
    "\n",
    "def files_at_relpath(rel_path):\n",
    "    return [os.path.join(rel_path, f) for f in os.listdir(rel_path)]\n",
    "\n",
    "\n",
    "def display_images(img_path, **kwargs):\n",
    "    scale = kwargs.get('scale')\n",
    "    if scale is not None:\n",
    "        kwargs.pop('scale', None)\n",
    "    kwargs.pop(\"key\", None)\n",
    "    files = files_at_relpath(img_path)\n",
    "    for filename in files:\n",
    "        try:\n",
    "            if scale is None:\n",
    "                display(Image(filename=filename, **kwargs))\n",
    "            else:\n",
    "                w, h = None, None\n",
    "                with PILImage.open(filename) as imgfile:\n",
    "                    w, h = imgfile.size\n",
    "                kwargs['width'] = float(w) * scale\n",
    "                kwargs['height'] = float(h) * scale\n",
    "                display(Image(filename=filename, **kwargs))\n",
    "        except ValueError as e:\n",
    "            continue"
   ]
  },
  {
   "cell_type": "markdown",
   "metadata": {
    "collapsed": true
   },
   "source": [
    "## RateBeer Profiles"
   ]
  },
  {
   "cell_type": "markdown",
   "metadata": {},
   "source": [
    "### Profile for user 'MiP' as of April 2009 and August 2009 (respectively)\n",
    "* 2008: https://web.archive.org/web/20090425001049/http://www.ratebeer.com/View-User-10185.htm\n",
    "* 2009: https://web.archive.org/web/20090822202711/http://www.ratebeer.com/View-User-10185.htm"
   ]
  },
  {
   "cell_type": "code",
   "execution_count": null,
   "metadata": {
    "collapsed": false
   },
   "outputs": [],
   "source": [
    "display_images('images/ratebeer/profiles-MiP/', scale=0.7)"
   ]
  },
  {
   "cell_type": "markdown",
   "metadata": {},
   "source": [
    "## Analysis"
   ]
  },
  {
   "cell_type": "code",
   "execution_count": null,
   "metadata": {
    "collapsed": false
   },
   "outputs": [],
   "source": [
    "%matplotlib inline\n",
    "\n",
    "import json\n",
    "from itertools import groupby\n",
    "from collections import defaultdict\n",
    "from datetime import date\n",
    "\n",
    "import matplotlib.pyplot as plt\n",
    "import matplotlib.dates as mdates\n",
    "import seaborn as sns\n",
    "\n",
    "import numpy as np"
   ]
  },
  {
   "cell_type": "code",
   "execution_count": null,
   "metadata": {
    "collapsed": true
   },
   "outputs": [],
   "source": [
    "# SOURCE_FILE = 'data/reduced_data.txt'\n",
    "SOURCE_FILE = 'data/mobile-data.txt'"
   ]
  },
  {
   "cell_type": "markdown",
   "metadata": {},
   "source": [
    "### Data helpers"
   ]
  },
  {
   "cell_type": "code",
   "execution_count": null,
   "metadata": {
    "collapsed": true
   },
   "outputs": [],
   "source": [
    "def parse_json(filename, normalize=True):\n",
    "    with open(filename) as f:\n",
    "        for line in f:\n",
    "            out = json.loads(line, encoding='latin-1')\n",
    "            if normalize:\n",
    "                temp = {}\n",
    "                for key in out:\n",
    "                    try:\n",
    "                        key = clean_unicode(key)\n",
    "                    except:\n",
    "                        key = key\n",
    "                    try:\n",
    "                        temp[key] = clean_unicode(out[key])\n",
    "                    except:\n",
    "                        temp[key] = out[key]\n",
    "                out = temp\n",
    "            yield out\n",
    "    f.close()\n",
    "\n",
    "    \n",
    "# via http://matplotlib.org/examples/pylab_examples/finance_work2.html\n",
    "def moving_average(x, n, type='simple'):\n",
    "    \"\"\"\n",
    "    compute an n period moving average.\n",
    "\n",
    "    type is 'simple' | 'exponential'\n",
    "\n",
    "    \"\"\"\n",
    "    x = np.asarray(x)\n",
    "    if type=='simple':\n",
    "        weights = np.ones(n)\n",
    "    else:\n",
    "        weights = np.exp(np.linspace(-1., 0., n))\n",
    "\n",
    "    weights /= weights.sum()\n",
    "\n",
    "\n",
    "    a =  np.convolve(x, weights, mode='full')[:len(x)]\n",
    "    a[:n] = a[n]\n",
    "    return a    "
   ]
  },
  {
   "cell_type": "markdown",
   "metadata": {},
   "source": [
    "### Load reviews and group by date"
   ]
  },
  {
   "cell_type": "code",
   "execution_count": null,
   "metadata": {
    "collapsed": true
   },
   "outputs": [],
   "source": [
    "timestamp_keyfunc = lambda r: r.get('review/timeUnix')\n",
    "date_keyfunc = lambda r: date.fromtimestamp(r.get('review/timeUnix'))"
   ]
  },
  {
   "cell_type": "code",
   "execution_count": null,
   "metadata": {
    "collapsed": false
   },
   "outputs": [],
   "source": [
    "reviews_iter = parse_json(SOURCE_FILE)\n",
    "sorted_reviews = sorted(reviews_iter, key=timestamp_keyfunc)\n",
    "review_by_date = {}\n",
    "for key, group in groupby(sorted_reviews, date_keyfunc):\n",
    "    review_by_date[key] = len(list(group))"
   ]
  },
  {
   "cell_type": "code",
   "execution_count": null,
   "metadata": {
    "collapsed": false
   },
   "outputs": [],
   "source": [
    "print 'Total reviews: %s' % \"{:,}\".format(len(sorted_reviews))\n",
    "print\n",
    "# print sorted_reviews[0:2]"
   ]
  },
  {
   "cell_type": "markdown",
   "metadata": {},
   "source": [
    "### Plot of total RateBeer reviews between November 1, 2008 and November 1, 2009"
   ]
  },
  {
   "cell_type": "code",
   "execution_count": null,
   "metadata": {
    "collapsed": false
   },
   "outputs": [],
   "source": [
    "dates = sorted(review_by_date.keys())\n",
    "review_counts = [review_by_date[k] for k in dates]\n",
    "\n",
    "ma_days = 45\n",
    "ma = moving_average(review_counts, ma_days, 'exponential')\n",
    "\n",
    "polynomial_order = 3\n",
    "trend_line = np.polyfit(range(len(dates)), review_counts, polynomial_order)"
   ]
  },
  {
   "cell_type": "code",
   "execution_count": null,
   "metadata": {
    "collapsed": false
   },
   "outputs": [],
   "source": [
    "current_palette = sns.color_palette(\"Paired\", 10)"
   ]
  },
  {
   "cell_type": "code",
   "execution_count": null,
   "metadata": {
    "collapsed": false
   },
   "outputs": [],
   "source": [
    "fig, axes = plt.subplots(1, figsize=(16, 10))\n",
    "\n",
    "# Review count plot\n",
    "axes.plot(dates, review_counts, color=current_palette[1], lw=1, label='Daily reviews')\n",
    "axes.fill_between(dates, 0, review_counts, facecolor=current_palette[0], alpha=0.8)\n",
    "# Review count plot\n",
    "axes.plot(dates, ma, color=current_palette[3], lw=4, alpha=0.75, label=('%d day moving avg.' % ma_days))\n",
    "# N order linear model plot\n",
    "axes.plot(dates, np.polyval(trend_line, range(len(dates))), color=current_palette[5], lw=4, alpha=0.75, label=('Order %d linear model' % polynomial_order))\n",
    "\n",
    "# Labels and axes formatting\n",
    "axes.set_title('RateBeer Reviews by Date')\n",
    "axes.set_xlabel('Dates')\n",
    "axes.set_ylabel('Reviews')\n",
    "fig.autofmt_xdate()\n",
    "axes.fmt_xdata = mdates.DateFormatter('%Y-%m-%d')\n",
    "handles, labels = axes.get_legend_handles_labels()\n",
    "axes.legend(handles, labels)\n",
    "\n",
    "plt.show()"
   ]
  },
  {
   "cell_type": "markdown",
   "metadata": {},
   "source": [
    "### Stuff"
   ]
  },
  {
   "cell_type": "code",
   "execution_count": null,
   "metadata": {
    "collapsed": true
   },
   "outputs": [],
   "source": [
    "user_keyfunc = lambda r: r.get('user/profileName')\n",
    "\n",
    "def month_keyfunc(review):\n",
    "    # Return the first day of the month for any day in a month\n",
    "    review_date = date.fromtimestamp(review.get('review/timeUnix'))\n",
    "    return date(review_date.year, review_date.month, 1)"
   ]
  },
  {
   "cell_type": "code",
   "execution_count": null,
   "metadata": {
    "collapsed": false
   },
   "outputs": [],
   "source": [
    "monthly_user_count = {}\n",
    "for key, group in groupby(sorted_reviews, month_keyfunc):\n",
    "    user_sorted = sorted(group, key=user_keyfunc)\n",
    "    monthly_user_count[key] = len(list(groupby(user_sorted, user_keyfunc)))"
   ]
  },
  {
   "cell_type": "code",
   "execution_count": null,
   "metadata": {
    "collapsed": false
   },
   "outputs": [],
   "source": [
    "months = sorted(monthly_user_count.keys())\n",
    "user_counts = [monthly_user_count[m] for m in months]"
   ]
  },
  {
   "cell_type": "code",
   "execution_count": null,
   "metadata": {
    "collapsed": false
   },
   "outputs": [],
   "source": [
    "fig, axes = plt.subplots(1, figsize=(16, 10))\n",
    "\n",
    "axes.plot(months, user_counts, color=current_palette[3], lw=1, label='Unique users')\n",
    "axes.fill_between(months, 0, user_counts, facecolor=current_palette[2], alpha=0.8)\n",
    "\n",
    "fig.autofmt_xdate()\n",
    "axes.set_title('RateBeer Unique Users by Month')\n",
    "axes.set_xlabel('Months')\n",
    "axes.set_ylabel('Users')\n",
    "axes.fmt_xdata = mdates.DateFormatter('%Y-%m')\n",
    "plt.show()"
   ]
  },
  {
   "cell_type": "code",
   "execution_count": null,
   "metadata": {
    "collapsed": false
   },
   "outputs": [],
   "source": [
    "users_html = [\"\"\"<table>\n",
    "<tr>\n",
    "<th>Date</th>\n",
    "<th>User Counts</th>\n",
    "</tr>\"\"\"]\n",
    "for i in range(len(months)):\n",
    "    users_html.append(\"\"\"<tr><td>%s</td><td>%s</td></tr>\"\"\" % (months[i], \"{:,}\".format(user_counts[i])))\n",
    "users_html.append(\"\"\"</table>\"\"\")\n",
    "\n",
    "h = HTML(''.join(users_html)); h"
   ]
  },
  {
   "cell_type": "code",
   "execution_count": null,
   "metadata": {
    "collapsed": true
   },
   "outputs": [],
   "source": [
    "beer_style_keyfunc = lambda r: r.get(u'beer/style')"
   ]
  },
  {
   "cell_type": "code",
   "execution_count": null,
   "metadata": {
    "collapsed": false
   },
   "outputs": [],
   "source": [
    "monthly_beer_count = {}\n",
    "all_styles = {}\n",
    "for key_month, group in groupby(sorted_reviews, month_keyfunc):\n",
    "    style_sorted = sorted(group, key=beer_style_keyfunc)\n",
    "    monthly_beer_count[key_month] = {}\n",
    "    for key_style, subgroup in groupby(style_sorted, beer_style_keyfunc):\n",
    "        style_count = len(list(subgroup))\n",
    "        monthly_beer_count[key_month][key_style] = style_count\n",
    "        all_styles[key_style] = all_styles.setdefault(key_style, 0) + style_count"
   ]
  },
  {
   "cell_type": "code",
   "execution_count": null,
   "metadata": {
    "collapsed": false
   },
   "outputs": [],
   "source": [
    "N_styles = 10\n",
    "top_N_styles = sorted(all_styles.items(), key=lambda s: s[1], reverse=True)[0:N_styles]\n",
    "top_styles = [s[0] for s in top_N_styles]\n",
    "\n",
    "months = sorted(monthly_beer_count.keys())\n",
    "style_counts = {}\n",
    "\n",
    "for style in top_styles:\n",
    "    month_counts = []\n",
    "    for month in months:\n",
    "        month_counts.append(monthly_beer_count[month][style])\n",
    "    style_counts[style] = month_counts\n",
    "    \n",
    "# Count of reviews for beers outside top_N_styles\n",
    "other_counts = []\n",
    "for i in range(len(months)):\n",
    "    month = months[i]\n",
    "    total_reviews = sum(monthly_beer_count[month].values())\n",
    "    top_style_reviews = sum([style_counts[s][i] for s in top_styles])\n",
    "    other_counts.insert(0, total_reviews - top_style_reviews)\n",
    "style_counts['Other'] = other_counts\n",
    "top_styles.insert(0, 'Other')"
   ]
  },
  {
   "cell_type": "code",
   "execution_count": null,
   "metadata": {
    "collapsed": false
   },
   "outputs": [],
   "source": [
    "current_palette = sns.color_palette(\"hls\", len(top_styles))\n",
    "# sns.palplot(current_palette)"
   ]
  },
  {
   "cell_type": "code",
   "execution_count": null,
   "metadata": {
    "collapsed": false
   },
   "outputs": [],
   "source": [
    "fig, axes = plt.subplots(1, figsize=(16, 10))\n",
    "\n",
    "area_bottoms = [0 for i in range(len(months))]\n",
    "cp_index = 0\n",
    "for style in top_styles:\n",
    "    area_tops = [style_counts[style][j] + area_bottoms[j] for j in range(len(months))]\n",
    "   \n",
    "    axes.plot(months, area_tops, color=current_palette[cp_index], lw=1, label=('%s' % style))\n",
    "    axes.fill_between(months, area_bottoms, area_tops, facecolor=current_palette[cp_index], alpha=0.8)\n",
    "    \n",
    "    area_bottoms = list(area_tops)\n",
    "    cp_index += 1\n",
    "    \n",
    "    \n",
    "axes.set_title('RateBeer Style Reviews by Date')\n",
    "axes.set_xlabel('Dates')\n",
    "axes.set_ylabel('Reviews')\n",
    "fig.autofmt_xdate()\n",
    "axes.fmt_xdata = mdates.DateFormatter('%Y-%m-%d')\n",
    "handles, labels = axes.get_legend_handles_labels()\n",
    "axes.legend(handles, labels, loc=8, ncol=2, frameon=True, fontsize='large', title='Beer Styles')\n",
    "\n",
    "plt.show()"
   ]
  },
  {
   "cell_type": "code",
   "execution_count": null,
   "metadata": {
    "collapsed": false
   },
   "outputs": [],
   "source": [
    "styles_html = ['<table><tr>']\n",
    "styles_html.append('<th></th>')  # Blank upper left corner\n",
    "for month in months:\n",
    "    styles_html.append(\n",
    "        ('<th>%s</th>' % month.strftime('%b %Y'))\n",
    "    )\n",
    "styles_html.append('</tr>')\n",
    "\n",
    "for style in top_styles:\n",
    "    styles_html.append(('<tr><td>%s</td>' % style))\n",
    "    for i in range(len(months)):\n",
    "        styles_html.append(('<td>%s</td>' % ('{:,}'.format(style_counts[style][i]))))\n",
    "    styles_html.append('</tr>')\n",
    "\n",
    "h = HTML(''.join(styles_html)); h"
   ]
  },
  {
   "cell_type": "code",
   "execution_count": null,
   "metadata": {
    "collapsed": true
   },
   "outputs": [],
   "source": []
  }
 ],
 "metadata": {
  "kernelspec": {
   "display_name": "Python 2",
   "language": "python",
   "name": "python2"
  },
  "language_info": {
   "codemirror_mode": {
    "name": "ipython",
    "version": 2
   },
   "file_extension": ".py",
   "mimetype": "text/x-python",
   "name": "python",
   "nbconvert_exporter": "python",
   "pygments_lexer": "ipython2",
   "version": "2.7.6"
  }
 },
 "nbformat": 4,
 "nbformat_minor": 0
}
