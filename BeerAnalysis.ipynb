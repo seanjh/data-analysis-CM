{
 "cells": [
  {
   "cell_type": "code",
   "execution_count": 77,
   "metadata": {
    "collapsed": true
   },
   "outputs": [],
   "source": [
    "import os\n",
    "import json\n",
    "import operator\n",
    "from datetime import datetime\n",
    "\n",
    "SOURCE_FILENAME = 'beer_50000.json'\n",
    "DATA_PATH = os.path.join(os.getcwd(), 'data')"
   ]
  },
  {
   "cell_type": "code",
   "execution_count": 7,
   "metadata": {
    "collapsed": false
   },
   "outputs": [],
   "source": [
    "lines = []\n",
    "beer_data = []\n",
    "\n",
    "with open(os.path.join(DATA_PATH, SOURCE_FILENAME)) as infile:\n",
    "    lines = infile.readlines()\n",
    "\n",
    "for line in lines:\n",
    "    beer_data.append(eval(line))"
   ]
  },
  {
   "cell_type": "code",
   "execution_count": 43,
   "metadata": {
    "collapsed": false
   },
   "outputs": [
    {
     "name": "stdout",
     "output_type": "stream",
     "text": [
      "{\n",
      "    \"beer/ABV\": 9.0, \n",
      "    \"beer/beerId\": \"20539\", \n",
      "    \"beer/brewerId\": \"394\", \n",
      "    \"beer/name\": \"Stoudt's Fat Dog (Imperial Oatmeal Stout)\", \n",
      "    \"beer/style\": \"American Double / Imperial Stout\", \n",
      "    \"review/appearance\": 4.0, \n",
      "    \"review/aroma\": 4.0, \n",
      "    \"review/overall\": 4.5, \n",
      "    \"review/palate\": 4.0, \n",
      "    \"review/taste\": 4.0, \n",
      "    \"review/text\": \"Bottled on 03/14/07. A thanks to JJ for sharing this one!\\t\\tBlack in appearance. With a Khaki head. Some nice lacing hangs around. Smells of coffee, chocolate, and Fig Newtons. Tastes of bittersweet chocolate, roasted malts, really burnt charred toast and some dark fruit mixed in. Some bitter hops kinda rounds everything out. Mouth feel is creamy, smooth and slick. Overall drinkability is outstanding. Alcohol was well hidden. Recommended. Cheers!\", \n",
      "    \"review/timeStruct\": {\n",
      "        \"hour\": 6, \n",
      "        \"isdst\": 0, \n",
      "        \"mday\": 24, \n",
      "        \"min\": 31, \n",
      "        \"mon\": 11, \n",
      "        \"sec\": 58, \n",
      "        \"wday\": 5, \n",
      "        \"yday\": 328, \n",
      "        \"year\": 2007\n",
      "    }, \n",
      "    \"review/timeUnix\": 1195885918, \n",
      "    \"user/profileName\": \"DavidEddie\"\n",
      "}\n"
     ]
    }
   ],
   "source": [
    "def pretty_json(my_dict):\n",
    "    return json.dumps(\n",
    "    my_dict, \n",
    "    sort_keys=True,\n",
    "    indent=4\n",
    ")\n",
    "\n",
    "print pretty_json(beer_data[-1])"
   ]
  },
  {
   "cell_type": "code",
   "execution_count": 38,
   "metadata": {
    "collapsed": false
   },
   "outputs": [
    {
     "name": "stdout",
     "output_type": "stream",
     "text": [
      "Total reviews for beer/beerId 20539: 351\n",
      "First review date for beer/beerId 20539: 2007-11-24 01:31:58\n",
      "Last review date for beer/beerId 20539: 2011-12-29 18:24:54\n"
     ]
    }
   ],
   "source": [
    "sample_beer_id = '20539'\n",
    "results = [b for b in beer_data if b.get('beer/beerId') == sample_beer_id]\n",
    "print 'Total reviews for beer/beerId %s: %d' % (sample_beer_id, len(results))\n",
    "min_time = min([t.get('review/timeUnix') for t in results])\n",
    "max_time = max([t.get('review/timeUnix') for t in results])\n",
    "\n",
    "print 'First review date for beer/beerId %s: %s' % (sample_beer_id, datetime.fromtimestamp(int(min_time)))\n",
    "print 'Last review date for beer/beerId %s: %s' % (sample_beer_id, datetime.fromtimestamp(int(max_time)))"
   ]
  },
  {
   "cell_type": "code",
   "execution_count": 41,
   "metadata": {
    "collapsed": false
   },
   "outputs": [],
   "source": [
    "def groupby_key(data, key_str):\n",
    "    key_map = {}\n",
    "    for datum in data:\n",
    "        key = datum.get(key_str)\n",
    "        key_map[key] = key_map.setdefault(key, 0) + 1\n",
    "    return key_map"
   ]
  },
  {
   "cell_type": "code",
   "execution_count": 107,
   "metadata": {
    "collapsed": false
   },
   "outputs": [
    {
     "name": "stdout",
     "output_type": "stream",
     "text": [
      "Total reviews:\t50,000\n",
      "Unique beers:\t1,923\n",
      "Unique brewers:\t219\n",
      "\n",
      "Unique users:\t8,376\n",
      "Top 10 reviewers\n",
      "\t# 1: northyorksammy      182\n",
      "\t# 2: BuckeyeNation       135\n",
      "\t# 3: mikesgroove         120\n",
      "\t# 4: MasterSki           112\n",
      "\t# 5: oberon              107\n",
      "\t# 6: barleywinefiend     103\n",
      "\t# 7: akorsak             100\n",
      "\t# 8: ChainGangGuy        99\n",
      "\t# 9: Thorpe429           98\n",
      "\t#10: brentk56            96\n",
      "1 review users:\t3,407\t40.68%\n",
      "\n",
      "Avg. rating:\t3.89\n",
      "Rating distribution:\n",
      "\t0.0 - 3        0.01%\n",
      "\t1.0 - 250      0.50%\n",
      "\t1.5 - 336      0.67%\n",
      "\t2.0 - 1,067    2.13%\n",
      "\t2.5 - 1,579    3.16%\n",
      "\t3.0 - 4,417    8.83%\n",
      "\t3.5 - 8,736    17.47%\n",
      "\t4.0 - 18,479   36.96%\n",
      "\t4.5 - 11,616   23.23%\n",
      "\t5.0 - 3,517    7.03%\n"
     ]
    }
   ],
   "source": [
    "print 'Total reviews:\\t%s' % \"{:,}\".format(len(beer_data))\n",
    "beers_grouped = groupby_key(beer_data, 'beer/beerId')\n",
    "print 'Unique beers:\\t%s' % \"{:,}\".format(len(beers_grouped.keys()))\n",
    "brewers_grouped = groupby_key(beer_data, 'beer/brewerId')\n",
    "print 'Unique brewers:\\t%s' % \"{:,}\".format(len(brewers_grouped.keys()))\n",
    "\n",
    "print\n",
    "users_grouped = groupby_key(beer_data, 'user/profileName')\n",
    "print 'Unique users:\\t%s' % \"{:,}\".format(len(users_grouped.keys()))\n",
    "print 'Top 10 reviewers'\n",
    "sorted_users = sorted(users_grouped.items(), cmp=lambda u1, u2: cmp(u1[1], u2[1]), reverse=True)\n",
    "for i in range(10):\n",
    "    print '\\t#%2d: %-20s%d' % (i+1, sorted_users[i][0], sorted_users[i][1])\n",
    "one_review_user_count = sum([1 for u in sorted_users if u[1] == 1])\n",
    "print '1 review users:\\t%s\\t%0.2f%%' % (\"{:,}\".format(one_review_user_count), float(one_review_user_count) / len(users_grouped.keys()) * 100)\n",
    "\n",
    "print\n",
    "print 'Avg. rating:\\t%0.2f' % ( sum([float(r.get('review/overall')) for r in beer_data]) / len(beer_data) )\n",
    "print 'Rating distribution:'\n",
    "reviews_grouped = groupby_key(beer_data, 'review/overall')\n",
    "for score in sorted([score for score in reviews_grouped.keys()]):\n",
    "    count = reviews_grouped[score]\n",
    "    print '\\t%s - %-8s %0.2f%%' % (score, \"{:,}\".format(count), float(count) / len(beer_data) * 100)"
   ]
  },
  {
   "cell_type": "code",
   "execution_count": null,
   "metadata": {
    "collapsed": true
   },
   "outputs": [],
   "source": []
  }
 ],
 "metadata": {
  "kernelspec": {
   "display_name": "Python 2",
   "language": "python",
   "name": "python2"
  },
  "language_info": {
   "codemirror_mode": {
    "name": "ipython",
    "version": 2
   },
   "file_extension": ".py",
   "mimetype": "text/x-python",
   "name": "python",
   "nbconvert_exporter": "python",
   "pygments_lexer": "ipython2",
   "version": "2.7.8"
  }
 },
 "nbformat": 4,
 "nbformat_minor": 0
}
