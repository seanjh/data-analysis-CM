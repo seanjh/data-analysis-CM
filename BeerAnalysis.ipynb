{
 "cells": [
  {
   "cell_type": "code",
   "execution_count": 4,
   "metadata": {
    "collapsed": true
   },
   "outputs": [],
   "source": [
    "import os\n",
    "import json\n",
    "\n",
    "SOURCE_FILENAME = 'beer_50000.json'\n",
    "DATA_PATH = os.path.join(os.getcwd(), 'data')"
   ]
  },
  {
   "cell_type": "code",
   "execution_count": 22,
   "metadata": {
    "collapsed": false
   },
   "outputs": [],
   "source": [
    "lines = []\n",
    "beer_data = []\n",
    "\n",
    "with open(os.path.join(DATA_PATH, SOURCE_FILENAME)) as infile:\n",
    "    lines = infile.readlines()\n",
    "\n",
    "for line in lines:\n",
    "    beer_data.append(eval(line))"
   ]
  },
  {
   "cell_type": "code",
   "execution_count": 23,
   "metadata": {
    "collapsed": false
   },
   "outputs": [
    {
     "name": "stdout",
     "output_type": "stream",
     "text": [
      "{'beer/style': 'American Double / Imperial Stout', 'beer/ABV': 9.0, 'beer/beerId': '20539', 'review/timeStruct': {'wday': 5, 'isdst': 0, 'mday': 24, 'hour': 6, 'min': 31, 'sec': 58, 'year': 2007, 'yday': 328, 'mon': 11}, 'review/aroma': 4.0, 'review/appearance': 4.0, 'review/timeUnix': 1195885918, 'review/palate': 4.0, 'review/taste': 4.0, 'beer/name': \"Stoudt's Fat Dog (Imperial Oatmeal Stout)\", 'beer/brewerId': '394', 'review/overall': 4.5, 'review/text': 'Bottled on 03/14/07. A thanks to JJ for sharing this one!\\t\\tBlack in appearance. With a Khaki head. Some nice lacing hangs around. Smells of coffee, chocolate, and Fig Newtons. Tastes of bittersweet chocolate, roasted malts, really burnt charred toast and some dark fruit mixed in. Some bitter hops kinda rounds everything out. Mouth feel is creamy, smooth and slick. Overall drinkability is outstanding. Alcohol was well hidden. Recommended. Cheers!', 'user/profileName': 'DavidEddie'}\n",
      "American Double / Imperial Stout\n"
     ]
    }
   ],
   "source": [
    "print beer_data[-1]\n",
    "print beer_data[-1].get('beer/style')"
   ]
  },
  {
   "cell_type": "code",
   "execution_count": null,
   "metadata": {
    "collapsed": false
   },
   "outputs": [],
   "source": []
  },
  {
   "cell_type": "code",
   "execution_count": null,
   "metadata": {
    "collapsed": true
   },
   "outputs": [],
   "source": []
  }
 ],
 "metadata": {
  "kernelspec": {
   "display_name": "Python 2",
   "language": "python",
   "name": "python2"
  },
  "language_info": {
   "codemirror_mode": {
    "name": "ipython",
    "version": 2
   },
   "file_extension": ".py",
   "mimetype": "text/x-python",
   "name": "python",
   "nbconvert_exporter": "python",
   "pygments_lexer": "ipython2",
   "version": "2.7.6"
  }
 },
 "nbformat": 4,
 "nbformat_minor": 0
}
